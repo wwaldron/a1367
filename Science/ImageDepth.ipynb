{
 "cells": [
  {
   "cell_type": "markdown",
   "id": "b09e7cd6",
   "metadata": {},
   "source": [
    "# Abell 1367 Orphan Cloud and Nucleated Dwarf Image Depth\n",
    "\n",
    "## Imports\n"
   ]
  },
  {
   "cell_type": "code",
   "execution_count": null,
   "id": "1cd2d021",
   "metadata": {},
   "outputs": [],
   "source": [
    "# Python Imports\n",
    "from pathlib import Path\n",
    "\n",
    "# Numerical Imports\n",
    "import numpy as np\n",
    "\n",
    "# Astropy Collab Imports\n",
    "from astropy import units as u\n",
    "from astropy.io import fits\n",
    "from astropy.wcs import WCS\n",
    "from astropy.table import QTable\n",
    "from astropy.coordinates import SkyCoord\n",
    "from astropy.convolution import convolve\n",
    "from photutils.utils import calc_total_error, ImageDepth\n",
    "from photutils.background import Background2D\n",
    "from photutils.segmentation import SourceFinder, make_2dgaussian_kernel\n",
    "from regions import Regions\n",
    "\n",
    "# Plotting\n",
    "import matplotlib.pyplot as plt"
   ]
  },
  {
   "cell_type": "markdown",
   "id": "56d8edd1",
   "metadata": {},
   "source": [
    "## Notebook Setup"
   ]
  },
  {
   "cell_type": "code",
   "execution_count": null,
   "id": "65ffbdde",
   "metadata": {},
   "outputs": [],
   "source": [
    "# Paths\n",
    "IMG_DIR = Path('../Images/ProcessedImages/HST/DrizzledImages')\n",
    "FOV_DIR = Path('../Images/ProcessedImages/HST/DS9/FOVs')\n",
    "DEP_DIR = Path('../Images/ProcessedImages/HST/DS9/Depths')\n",
    "\n",
    "# Filters\n",
    "FILTERS = ['F275W', 'F475W', 'F814W']"
   ]
  },
  {
   "cell_type": "code",
   "execution_count": null,
   "id": "ef6e7618",
   "metadata": {},
   "outputs": [],
   "source": [
    "N_SIGMA = 5.0"
   ]
  },
  {
   "cell_type": "markdown",
   "id": "ff218546",
   "metadata": {},
   "source": [
    "## Load Data"
   ]
  },
  {
   "cell_type": "code",
   "execution_count": null,
   "id": "ec28c06a",
   "metadata": {},
   "outputs": [],
   "source": [
    "# Setup Variables\n",
    "magLims, depth = {}, {}\n",
    "\n",
    "# Loop through Filters & Load\n",
    "for filter in FILTERS:\n",
    "\n",
    "    # Open Image\n",
    "    with fits.open(IMG_DIR / f'A1367OC-{filter}_drc.fits') as hduList:\n",
    "\n",
    "        # Get the Header, Image, and WCS\n",
    "        hdr = hduList['SCI'].header\n",
    "        img = hduList['SCI'].data << u.electron/u.s\n",
    "        wcs = WCS(hdr)\n",
    "\n",
    "        # Get the Zero Point\n",
    "        zp  = -2.5 * np.log10(hdr['PHOTFLAM']) - 21.1\n",
    "        zp += 18.6921\n",
    "        zp -= 5 * np.log10(hdr['PHOTPLAM'])\n",
    "        zpt = u.Magnitude(zp, unit=u.mag(u.AB/img.unit))\n",
    "\n",
    "    # Get the Coverage Mask\n",
    "    coverageMask = Regions().read(FOV_DIR / f'{filter}-FOV.reg')[0].to_pixel(wcs).to_mask()\n",
    "    coverageMask = ~coverageMask.to_image(img.shape, bool)\n",
    "    badPixMask   = ~np.isfinite(img) & ~coverageMask\n",
    "\n",
    "    # Get Background\n",
    "    bkg = Background2D(\n",
    "        img, 128, mask=badPixMask, coverage_mask=coverageMask\n",
    "    )\n",
    "\n",
    "    # Set Threshold and Kernel\n",
    "    kernel = make_2dgaussian_kernel(3.5*5/3, 9)\n",
    "    threshold = 1.25 * bkg.background_rms\n",
    "\n",
    "    # Get the Background Subtracted Image & Convolve\n",
    "    img -= bkg.background\n",
    "    convData = convolve(\n",
    "        img, kernel\n",
    "    )\n",
    "\n",
    "    # Find Sources\n",
    "    finder = SourceFinder(10, nproc=4, deblend=False)\n",
    "    segMap = finder(convData, threshold)\n",
    "    srcMask = segMap.make_source_mask()\n",
    "\n",
    "    # Get the Depth\n",
    "    mask_pad = 20 if filter != 'F275W' else 0\n",
    "    depth[filter] = ImageDepth(\n",
    "        0.5/0.03, nsigma=N_SIGMA, mask_pad=mask_pad, napers=2000, niters=50,\n",
    "        overlap=False, seed=None, zeropoint=zpt.value\n",
    "    )\n",
    "    _, magLims[filter] = depth[filter](img.value, coverageMask | badPixMask | srcMask)"
   ]
  },
  {
   "cell_type": "code",
   "execution_count": null,
   "id": "31f8424d",
   "metadata": {},
   "outputs": [],
   "source": [
    "for filter, magLim in magLims.items():\n",
    "    print(f\"{filter}: {magLim:.2f} +/- {depth[filter].mag_limits.std()<<u.ABmag:.2f} (image {N_SIGMA:.1f}-sigma depth)\")"
   ]
  },
  {
   "cell_type": "code",
   "execution_count": null,
   "id": "5159fa10",
   "metadata": {},
   "outputs": [],
   "source": [
    "for filter, d in depth.items():\n",
    "    with open(DEP_DIR / f\"{filter}-DepthApers.reg\", \"w\") as fid:\n",
    "        fid.write(\"# Region file format: DS9 version 4.1\\n\")\n",
    "        fid.write(f\"global color=cyan width=2\\n\")\n",
    "        fid.write(\"image\\n\")\n",
    "        for aper in d.apertures[0]:\n",
    "            x, y = aper.positions\n",
    "            r = aper.r\n",
    "            fid.write(f\"circle({x:.4f},{y:.4f},{r:.2f})\\n\")"
   ]
  }
 ],
 "metadata": {
  "kernelspec": {
   "display_name": "stenv",
   "language": "python",
   "name": "python3"
  },
  "language_info": {
   "codemirror_mode": {
    "name": "ipython",
    "version": 3
   },
   "file_extension": ".py",
   "mimetype": "text/x-python",
   "name": "python",
   "nbconvert_exporter": "python",
   "pygments_lexer": "ipython3",
   "version": "3.12.4"
  }
 },
 "nbformat": 4,
 "nbformat_minor": 5
}
