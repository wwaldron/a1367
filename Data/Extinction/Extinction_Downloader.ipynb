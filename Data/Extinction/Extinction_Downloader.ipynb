{
 "cells": [
  {
   "attachments": {},
   "cell_type": "markdown",
   "id": "1ea3a269-46d2-452d-b85e-23e36d8d1af1",
   "metadata": {},
   "source": [
    "# A1367 OC - Extinction Download"
   ]
  },
  {
   "attachments": {},
   "cell_type": "markdown",
   "id": "474a82b5-0e60-4b07-a702-ebba92a9bb90",
   "metadata": {},
   "source": [
    "## Imports"
   ]
  },
  {
   "cell_type": "code",
   "execution_count": null,
   "id": "3b0b0da1-43e6-47e1-adf7-f29213a95ac0",
   "metadata": {
    "tags": []
   },
   "outputs": [],
   "source": [
    "# Astropy Collab Imports\n",
    "from astropy import units as u\n",
    "from astropy.io import fits\n",
    "from astropy.table import QTable\n",
    "from astropy.coordinates import SkyCoord\n",
    "from astropy.wcs import WCS\n",
    "from astroquery.ipac.irsa.irsa_dust import IrsaDust"
   ]
  },
  {
   "attachments": {},
   "cell_type": "markdown",
   "id": "6a9f6d43-23b2-4dc7-8037-6d56f4fd438f",
   "metadata": {},
   "source": [
    "## Load External Data"
   ]
  },
  {
   "attachments": {},
   "cell_type": "markdown",
   "id": "a4dc80d3-a928-4cb3-8b95-5fca97c7486a",
   "metadata": {},
   "source": [
    "### Load Image Data\n",
    "\n",
    "The center of the image *might* not correspond to the NED galaxy used to find the GAIA\n",
    "sources. Therefore, we will instead get the `CR_PIX` coordinate from one of the processed images\n",
    "to know what the coordinate we need for extinction."
   ]
  },
  {
   "cell_type": "code",
   "execution_count": null,
   "id": "98c109b8",
   "metadata": {},
   "outputs": [],
   "source": [
    "# Open the Image and Get the CR_PIX Coordinate\n",
    "with fits.open('../../Images/ProcessedImages/HST/DrizzledImages/A1367OC-F814W_drc.fits') as hduList:\n",
    "\n",
    "    # Get the WCS from the FITS Header\n",
    "    wcs = WCS(hduList[1])\n",
    "\n",
    "# Get the Coordinate for the Center of the Image\n",
    "IMG_COORD = SkyCoord(\n",
    "    wcs.wcs.crval[0],\n",
    "    wcs.wcs.crval[1],\n",
    "    unit=(u.deg, u.deg),\n",
    "    frame=wcs.wcs.radesys.lower()\n",
    ")"
   ]
  },
  {
   "cell_type": "markdown",
   "id": "d17968ec",
   "metadata": {},
   "source": [
    "### Get the IRSA Extinction Data "
   ]
  },
  {
   "cell_type": "code",
   "execution_count": null,
   "id": "55bc871f",
   "metadata": {},
   "outputs": [],
   "source": [
    "# Get the E(B-V) Value for the Image\n",
    "# Schlafly, E.F. & Finkbeiner, D.P.  2011, ApJ 737, 103 (S and F).\n",
    "# Steps on the One Line Below\n",
    "#   Query the Table -- get_query_table\n",
    "#   Get the E(B-V) Value -- > ['ext SandF mean']\n",
    "#   Get the Astropy Table Column as an array --> .value\n",
    "#   Get the Single Value from the Array --> .item()\n",
    "ebv  = IrsaDust.get_query_table(IMG_COORD, section='ebv')['ext SandF mean'].value.item()\n",
    "ebv *= u.mag\n",
    "\n",
    "# Get the Full Extinction Table\n",
    "table = IrsaDust.get_extinction_table(IMG_COORD)\n",
    "table = QTable(table)"
   ]
  },
  {
   "cell_type": "markdown",
   "id": "da893ee9",
   "metadata": {},
   "source": [
    "## Write Data to File"
   ]
  },
  {
   "cell_type": "code",
   "execution_count": null,
   "id": "e7e9b635",
   "metadata": {},
   "outputs": [],
   "source": [
    "# Write the E(B-V) data to a File\n",
    "with open('A1367OC-EBV.txt', 'w') as file:\n",
    "    file.write(f'{ebv}\\n')"
   ]
  },
  {
   "cell_type": "code",
   "execution_count": null,
   "id": "ec796ac2",
   "metadata": {},
   "outputs": [],
   "source": [
    "# Write the Extinction Table to a File\n",
    "table.write('A1367OC-ExtinctionTable.ecsv', overwrite=True)"
   ]
  }
 ],
 "metadata": {
  "kernelspec": {
   "display_name": "stenv",
   "language": "python",
   "name": "python3"
  },
  "language_info": {
   "codemirror_mode": {
    "name": "ipython",
    "version": 3
   },
   "file_extension": ".py",
   "mimetype": "text/x-python",
   "name": "python",
   "nbconvert_exporter": "python",
   "pygments_lexer": "ipython3",
   "version": "3.12.5"
  }
 },
 "nbformat": 4,
 "nbformat_minor": 5
}
