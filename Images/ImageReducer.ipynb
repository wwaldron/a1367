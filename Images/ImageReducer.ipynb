{
 "cells": [
  {
   "cell_type": "markdown",
   "id": "637a0e8a-4df7-4740-8b75-f2d67488f0c3",
   "metadata": {},
   "source": [
    "# A1367 OC - Image Reducer\n",
    "\n",
    "The purpose of this notebook is to reduce the FLC files from Hubble by:\n",
    "\n",
    "1. Aligning FLCs to the GAIA catalog\n",
    "2. Drizzling Images together from a particular filter\n",
    "\n",
    "## Imports"
   ]
  },
  {
   "cell_type": "code",
   "execution_count": null,
   "id": "a4534ffe-48ab-4e9c-ad7f-2a35819cab23",
   "metadata": {
    "tags": []
   },
   "outputs": [],
   "source": [
    "# Python Imports\n",
    "from os import path\n",
    "from glob import iglob\n",
    "\n",
    "# Numerical Imports\n",
    "import numpy as np\n",
    "\n",
    "# Astropy Colab Imports\n",
    "from astropy.io import fits\n",
    "from astropy.wcs import WCS\n",
    "from drizzlepac.tweakreg import TweakReg\n",
    "from drizzlepac.tweakback import apply_tweak\n",
    "from drizzlepac.astrodrizzle import AstroDrizzle\n",
    "# import pyregion"
   ]
  },
  {
   "cell_type": "markdown",
   "id": "77680ad3-81cd-440a-abe5-898417efde85",
   "metadata": {},
   "source": [
    "## Notebook Setup"
   ]
  },
  {
   "cell_type": "code",
   "execution_count": null,
   "id": "49a4de68-e406-4992-a078-e628b6812333",
   "metadata": {
    "tags": []
   },
   "outputs": [],
   "source": [
    "# Data Directory\n",
    "DATA_DIR = 'mastDownload/HST'\n",
    "\n",
    "# FLC Glob Patter\n",
    "FLC_CR_GLOB_PAT = path.join(DATA_DIR, '**/*_crclean_flc.fits')\n",
    "\n",
    "# DRC Glob Patter\n",
    "DRC_CR_GLOB_PAT = path.join(DATA_DIR, '**/*drc.fits')"
   ]
  },
  {
   "cell_type": "markdown",
   "id": "d5cd3424-175d-427d-ab38-6d2b191ed91d",
   "metadata": {},
   "source": [
    "## Load the Data"
   ]
  },
  {
   "cell_type": "code",
   "execution_count": null,
   "id": "26b6a90f-5641-4f2d-9123-3f28c3db4f78",
   "metadata": {
    "tags": []
   },
   "outputs": [],
   "source": [
    "# Get the File Names and Sort them by filter\n",
    "flcNameDict = {}\n",
    "for fn in iglob(FLC_CR_GLOB_PAT):\n",
    "\n",
    "    # Open the file to get the filter\n",
    "    with fits.open(fn) as hduList:\n",
    "        hdr = hduList[0].header  # Get the Header\n",
    "        if 'FILTER' in hdr:      # If the FILTER keyword exists (WFC3)\n",
    "            filt = hdr['FILTER']\n",
    "        elif 'CLEAR' not in hdr['FILTER1']:  # If FILTER1 is not clear (ACS)\n",
    "            filt = hdr['FILTER1']\n",
    "        else:                                # Else FILTER2 must be the filter (ACS)\n",
    "            filt = hdr['FILTER2']\n",
    "\n",
    "    # Store the Name using the filter as the dict key\n",
    "    # Start the Empty List if Key does not exist\n",
    "    if filt not in flcNameDict:\n",
    "        flcNameDict[filt] = []\n",
    "    flcNameDict[filt].append(fn)"
   ]
  },
  {
   "cell_type": "code",
   "execution_count": null,
   "id": "714fe618",
   "metadata": {},
   "outputs": [],
   "source": [
    "flcNameDict"
   ]
  },
  {
   "cell_type": "code",
   "execution_count": null,
   "id": "6807c2f8",
   "metadata": {},
   "outputs": [],
   "source": [
    "# Get the File Names and Sort them by filter\n",
    "drcNameDict = {}\n",
    "for fn in iglob(DRC_CR_GLOB_PAT):\n",
    "\n",
    "    # Open the file to get the filter\n",
    "    with fits.open(fn) as hduList:\n",
    "        hdr = hduList[0].header  # Get the Header\n",
    "        if 'FILTER' in hdr:      # If the FILTER keyword exists (WFC3)\n",
    "            filt = hdr['FILTER']\n",
    "        elif 'CLEAR' not in hdr['FILTER1']:  # If FILTER1 is not clear (ACS)\n",
    "            filt = hdr['FILTER1']\n",
    "        else:                                # Else FILTER2 must be the filter (ACS)\n",
    "            filt = hdr['FILTER2']\n",
    "\n",
    "    # Store the Name using the filter as the dict key\n",
    "    # Start the Empty List if Key does not exist\n",
    "    if filt not in drcNameDict:\n",
    "        drcNameDict[filt] = []\n",
    "    drcNameDict[filt].append(fn)"
   ]
  },
  {
   "cell_type": "code",
   "execution_count": null,
   "id": "5757673d",
   "metadata": {},
   "outputs": [],
   "source": [
    "drcNameDict"
   ]
  },
  {
   "cell_type": "markdown",
   "id": "ef010d17-6a56-4741-8dfb-3502225764bb",
   "metadata": {},
   "source": [
    "## Align DRCs to GAIA"
   ]
  },
  {
   "cell_type": "markdown",
   "id": "41d90de0-62e4-47c6-b435-79a9de9e88d0",
   "metadata": {},
   "source": [
    "### Align F475W DRC to GAIA"
   ]
  },
  {
   "cell_type": "code",
   "execution_count": null,
   "id": "66df4400-786e-4a61-8b96-06a2229269a9",
   "metadata": {
    "tags": []
   },
   "outputs": [],
   "source": [
    "# Align the Images to the GAIA data\n",
    "TweakReg(\n",
    "    drcNameDict['F475W'],\n",
    "    updatehdr=True,\n",
    "    wcsname='GAIA',\n",
    "    clean=True,\n",
    "    configobj=None,\n",
    "    catfile='catalogs/catfile',\n",
    "    refcat='../Data/GAIA/A1367OC-GAIA-RefCatalog-icrs.txt',\n",
    "    runfile='A1367OC-F475W-Tweak.log',\n",
    "    searchrad=0.5,\n",
    "    minobj=5,\n",
    "    tolerance=3,\n",
    "    interactive=False\n",
    ")"
   ]
  },
  {
   "cell_type": "markdown",
   "id": "17d81ee1-4405-4572-9d3f-182535fc0821",
   "metadata": {},
   "source": [
    "### Align the F814W to F475W"
   ]
  },
  {
   "cell_type": "code",
   "execution_count": null,
   "id": "d22007a5",
   "metadata": {},
   "outputs": [],
   "source": [
    "# DQ Bits\n",
    "DQ_BAD_DET  = 4\n",
    "DQ_HOT_PIX  = 16\n",
    "DQ_CR_PIX   = 4096+8192\n",
    "DQ_GOOD_PIX = ~(DQ_BAD_DET + DQ_HOT_PIX + DQ_CR_PIX)"
   ]
  },
  {
   "cell_type": "code",
   "execution_count": null,
   "id": "88894703-57a4-4e6e-bac2-ec993d497a26",
   "metadata": {
    "tags": []
   },
   "outputs": [],
   "source": [
    "# Image Find Parameters\n",
    "imagefindcfg = refimagefindcfg = dict(\n",
    "    # peakmax=900,\n",
    "    threshold=10,\n",
    "    conv_width=3.5,\n",
    ")\n",
    "\n",
    "# Align the Images to the GAIA data\n",
    "TweakReg(\n",
    "    drcNameDict['F814W'],\n",
    "    updatehdr=True,\n",
    "    wcsname='GAIA',\n",
    "    clean=True,\n",
    "    configobj=None,\n",
    "    refimage=drcNameDict['F475W'][0],\n",
    "    runfile='A1367OC-F814W-Tweak.log',\n",
    "    searchrad=0.3,\n",
    "    minobj=15,\n",
    "    tolerance=1.00,\n",
    "    imagefindcfg=imagefindcfg,\n",
    "    refimagefindcfg=refimagefindcfg,\n",
    "    interactive=False\n",
    ")"
   ]
  },
  {
   "cell_type": "markdown",
   "id": "53e75d19",
   "metadata": {},
   "source": [
    "### Align the F275W to F475W"
   ]
  },
  {
   "cell_type": "code",
   "execution_count": null,
   "id": "952061bf",
   "metadata": {},
   "outputs": [],
   "source": [
    "# Image Find Parameters\n",
    "imagefindcfg = dict(\n",
    "    # peakmax=900,\n",
    "    threshold=3,\n",
    "    conv_width=3.5,\n",
    ")\n",
    "refimagefindcfg = dict(\n",
    "    # peakmax=900,\n",
    "    threshold=3,\n",
    "    conv_width=3.5,\n",
    ")\n",
    "\n",
    "# Align the Images to the GAIA data\n",
    "TweakReg(\n",
    "    drcNameDict['F275W'],\n",
    "    updatehdr=True,\n",
    "    wcsname='GAIA',\n",
    "    clean=True,\n",
    "    configobj=None,\n",
    "    refimage=drcNameDict['F475W'][0],\n",
    "    # catfile='catalogs/catfile',\n",
    "    runfile='A1367OC-F275W-Tweak.log',\n",
    "    searchrad=0.5,\n",
    "    minobj=5,\n",
    "    tolerance=1,\n",
    "    imagefindcfg=imagefindcfg,\n",
    "    refimagefindcfg=refimagefindcfg,\n",
    "    interactive=False\n",
    ")"
   ]
  },
  {
   "cell_type": "code",
   "execution_count": null,
   "id": "24ee197d",
   "metadata": {},
   "outputs": [],
   "source": [
    "%%bash\n",
    "mkdir -p logs/tweak\n",
    "mv *.log logs/tweak/\n",
    "rm *.coo *.png"
   ]
  },
  {
   "cell_type": "markdown",
   "id": "ee90b22d",
   "metadata": {},
   "source": [
    "## TweakBack Solution"
   ]
  },
  {
   "cell_type": "code",
   "execution_count": null,
   "id": "1a0e3129",
   "metadata": {},
   "outputs": [],
   "source": [
    "# Loop through DRCs\n",
    "for filter, fileList in drcNameDict.items():\n",
    "\n",
    "    # Loop through the files\n",
    "    for fn in fileList:\n",
    "\n",
    "        # Get ASN\n",
    "        asnName = fn.replace('drc.fits', 'asn.fits')\n",
    "\n",
    "        # Get the Input Dither Files\n",
    "        flcFiles = fits.getdata(asnName, 'ASN')\n",
    "        flcFiles = flcFiles['MEMNAME'][flcFiles['MEMTYPE'] == 'EXP-DTH']\n",
    "        flcFiles = [path.join(DATA_DIR, fn.lower(), f'{fn.lower()}_crclean_flc.fits') for fn in flcFiles]\n",
    "\n",
    "        # Run Tweakback\n",
    "        apply_tweak(\n",
    "            fn + '[sci,1]', None, orig_wcs_key='A',\n",
    "            input_files=','.join(flcFiles),\n",
    "            tweaked_wcs_name='GAIA'\n",
    "        )"
   ]
  },
  {
   "cell_type": "markdown",
   "id": "850f371e-8d46-4f59-b725-ed670feaf1d8",
   "metadata": {},
   "source": [
    "## Drizzle Images for CR Correction\n",
    "\n",
    "Although there will be additional notes added later, it is worth noting that according to\n",
    "[STScI](https://hst-docs.stsci.edu/drizzpac/chapter-6-reprocessing-with-the-drizzlepac-package/6-3-running-astrodrizzle#id-6.3RunningAstroDrizzle-SelectingtheOptimalScaleandPixfrac):\n",
    "\n",
    "1. For sub-pixel dithered data, select an output scale that's smaller than the native scale.\n",
    "It will even help in the cosmic ray rejection step.\n",
    "1. A smaller final_pixfrac gives higher resolution and lower correlated noise, but also reduces\n",
    "sensitivity to low-surface brightness features (though it is possible to convolve a high resolution\n",
    "image later to go after low surface brightness features).\n",
    "1. Keep the standard deviation of the weight map over the main part of the image to above ~0.3 of\n",
    "the mean to insure that one does not lose significant signal-to-noise in ignoring the weight map in\n",
    "final photometry.\n",
    "\n",
    "To summarize the last step, a `final_scale`/`final_pixfrac` combo should be chosen such that,\n",
    "for the weight image,\n",
    "\\begin{equation}\n",
    "    \\mathrm{std} \\gtrsim 0.3 \\, \\mathrm{mean}\n",
    "\\end{equation}"
   ]
  },
  {
   "cell_type": "markdown",
   "id": "915496be",
   "metadata": {},
   "source": [
    "### Functions"
   ]
  },
  {
   "cell_type": "code",
   "execution_count": null,
   "id": "514b4b97",
   "metadata": {},
   "outputs": [],
   "source": [
    "def check_weights(imageFileName, regionFileName):\n",
    "\n",
    "    # Print the Findings\n",
    "    def regions_stats(data):\n",
    "\n",
    "        # Get Stats\n",
    "        mean = np.nanmean(data)\n",
    "        std = np.nanstd(data)\n",
    "        thresh = 0.3*mean\n",
    "\n",
    "        # Print the Stats\n",
    "        print(f'Mean:   {mean:.3E}')\n",
    "        print(f'Thresh: {thresh:.3E}')\n",
    "        print(f'StdDev: {std:.3E}')\n",
    "        print(std >= thresh, end='\\n\\n')\n",
    "\n",
    "    # Get Regions\n",
    "    regions = pyregion.open(regionFileName)\n",
    "\n",
    "    # Open the Image\n",
    "    with fits.open(imageFileName) as hduList:\n",
    "\n",
    "        # Loop through Regions\n",
    "        for region in regions:\n",
    "\n",
    "            # Get the Mask\n",
    "            mask = pyregion.ShapeList([region]).get_mask(hduList['WHT'])\n",
    "\n",
    "            # Print Stats\n",
    "            regions_stats(hduList['WHT'].data[mask])"
   ]
  },
  {
   "cell_type": "markdown",
   "id": "5184746e-d059-4b54-b209-f69658b672c7",
   "metadata": {},
   "source": [
    "### AstroDrizzle ACS Data Quality Flags\n",
    "\n",
    "[Link to ACS/WFC DQ Flags](https://www.stsci.edu/hst/instrumentation/acs/data-analysis/dq-flag-definitions)"
   ]
  },
  {
   "cell_type": "code",
   "execution_count": null,
   "id": "07d029d5-486e-4da2-93c4-d472d354be12",
   "metadata": {
    "tags": []
   },
   "outputs": [],
   "source": [
    "# DQ Bits\n",
    "DQ_AS_CR    = 2\n",
    "DQ_BAD_DET  = 4\n",
    "DQ_STAB_HOT = 16\n",
    "DQ_WARM_PIX = 64\n",
    "DQ_BAD_COL  = 128\n",
    "DQ_FULL_WELL= 256\n",
    "DQ_BADREF   = 512\n",
    "DQ_SINK_PIX = 1024\n",
    "DQ_GOOD_PIX = DQ_WARM_PIX + DQ_FULL_WELL + DQ_SINK_PIX\n",
    "# DQ_GOOD_PIX = ~4096"
   ]
  },
  {
   "cell_type": "markdown",
   "id": "4b73b4ca-9625-4ecc-8c8f-87dcfebfc010",
   "metadata": {},
   "source": [
    "### Drizzle F814W Images"
   ]
  },
  {
   "cell_type": "code",
   "execution_count": null,
   "id": "727ad88a-d11f-4eeb-b155-cf12039938aa",
   "metadata": {
    "tags": []
   },
   "outputs": [],
   "source": [
    "from astropy.io import fits\n",
    "\n",
    "\n",
    "# Drizzle Images\n",
    "AstroDrizzle(\n",
    "    flcNameDict['F814W'],\n",
    "    output='A1367OC-F814W',\n",
    "    runfile='F814W-Astro.log',\n",
    "    wcskey='GAIA',\n",
    "    context=False,\n",
    "    configobj=None,\n",
    "    num_cores=8,\n",
    "    in_memory=False,\n",
    "    build=True,\n",
    "    restore=False,\n",
    "    preserve=False,\n",
    "    clean=True,\n",
    "    skymethod='localmin',\n",
    "    driz_sep_scale=0.03,\n",
    "    driz_sep_bits=DQ_GOOD_PIX,\n",
    "    combine_type='minmed',\n",
    "    driz_cr_corr=False,\n",
    "    final_wht_type='IVM',\n",
    "    final_pixfrac=0.9,\n",
    "    final_bits=DQ_GOOD_PIX,\n",
    "    final_wcs=True,\n",
    "    final_rot=0,\n",
    "    final_scale=0.03\n",
    ")\n"
   ]
  },
  {
   "cell_type": "code",
   "execution_count": null,
   "id": "bb941471",
   "metadata": {},
   "outputs": [],
   "source": [
    "check_weights('A1367OC-F814W_drc.fits', 'weight_regions/F814W.reg')"
   ]
  },
  {
   "cell_type": "markdown",
   "id": "7f467a6a-8c04-4c0d-87c2-cd4fa95890c3",
   "metadata": {},
   "source": [
    "### Drizzle F475W Images"
   ]
  },
  {
   "cell_type": "code",
   "execution_count": null,
   "id": "b5d028a2-1248-4d93-b9b5-3d502c0909bc",
   "metadata": {
    "tags": []
   },
   "outputs": [],
   "source": [
    "# Drizzle Images\n",
    "AstroDrizzle(\n",
    "    flcNameDict['F475W'],\n",
    "    output='A1367OC-F475W',\n",
    "    runfile='F475W-Astro.log',\n",
    "    wcskey='GAIA',\n",
    "    context=False,\n",
    "    configobj=None,\n",
    "    num_cores=8,\n",
    "    in_memory=False,\n",
    "    build=True,\n",
    "    restore=False,\n",
    "    preserve=False,\n",
    "    clean=True,\n",
    "    skymethod='localmin',\n",
    "    driz_sep_scale=0.03,\n",
    "    driz_sep_bits=DQ_GOOD_PIX,\n",
    "    combine_type='minmed',\n",
    "    driz_cr_corr=False,\n",
    "    final_wht_type='IVM',\n",
    "    final_pixfrac=0.9,\n",
    "    final_bits=DQ_GOOD_PIX,\n",
    "    final_wcs=True,\n",
    "    final_refimage='A1367OC-F814W_drc.fits'\n",
    ")"
   ]
  },
  {
   "cell_type": "code",
   "execution_count": null,
   "id": "fd3dae24",
   "metadata": {},
   "outputs": [],
   "source": [
    "check_weights('A1367OC-F475W_drc.fits', 'weight_regions/F475W.reg')"
   ]
  },
  {
   "cell_type": "markdown",
   "id": "0f6714b5",
   "metadata": {},
   "source": [
    "### AstroDrizzle WFC3 Data Quality Flags\n",
    "\n",
    "[Link to ACS/WFC DQ Flags](https://www.stsci.edu/hst/instrumentation/acs/data-analysis/dq-flag-definitions)"
   ]
  },
  {
   "cell_type": "code",
   "execution_count": null,
   "id": "b9cdcd7f",
   "metadata": {},
   "outputs": [],
   "source": [
    "# DQ Bits\n",
    "DQ_AS_CR    = 2\n",
    "DQ_BAD_DET  = 4\n",
    "DQ_STAB_HOT = 16\n",
    "DQ_BAD_COL  = 128\n",
    "DQ_FULL_WELL= 256\n",
    "DQ_BAD_FLAT = 512\n",
    "DQ_SINK_PIX = 1024\n",
    "DQ_GOOD_PIX = DQ_FULL_WELL + DQ_SINK_PIX\n",
    "# DQ_GOOD_PIX = ~4096"
   ]
  },
  {
   "cell_type": "markdown",
   "id": "34d4e3c3",
   "metadata": {},
   "source": [
    "### Drizzle F275W Images"
   ]
  },
  {
   "cell_type": "code",
   "execution_count": null,
   "id": "2b32b317",
   "metadata": {},
   "outputs": [],
   "source": [
    "# Drizzle Images\n",
    "AstroDrizzle(\n",
    "    flcNameDict['F275W'],\n",
    "    output='A1367OC-F275W',\n",
    "    runfile='F275W-Astro.log',\n",
    "    wcskey='GAIA',\n",
    "    context=False,\n",
    "    configobj=None,\n",
    "    num_cores=8,\n",
    "    in_memory=False,\n",
    "    build=True,\n",
    "    restore=False,\n",
    "    preserve=False,\n",
    "    clean=True,\n",
    "    skymethod='localmin',\n",
    "    driz_sep_scale=0.03,\n",
    "    driz_sep_bits=DQ_GOOD_PIX,\n",
    "    combine_type='minmed',\n",
    "    driz_cr_corr=False,\n",
    "    final_wht_type='IVM',\n",
    "    final_pixfrac=0.33,\n",
    "    final_bits=DQ_GOOD_PIX,\n",
    "    final_wcs=True,\n",
    "    final_refimage='A1367OC-F814W_drc.fits'\n",
    ")"
   ]
  },
  {
   "cell_type": "code",
   "execution_count": null,
   "id": "49089c89",
   "metadata": {},
   "outputs": [],
   "source": [
    "check_weights('A1367OC-F275W_drc.fits', 'weight_regions/F275W.reg')"
   ]
  },
  {
   "cell_type": "code",
   "execution_count": null,
   "id": "394628f8",
   "metadata": {},
   "outputs": [],
   "source": [
    "%%bash\n",
    "# Clean Up\n",
    "mkdir -p logs/astro\n",
    "mkdir -p ProcessedImages/HST/DrizzledImages\n",
    "mv *Astro.log logs/astro/\n",
    "mv *drc.fits ProcessedImages/HST/DrizzledImages/"
   ]
  }
 ],
 "metadata": {
  "kernelspec": {
   "display_name": "stenv",
   "language": "python",
   "name": "python3"
  },
  "language_info": {
   "codemirror_mode": {
    "name": "ipython",
    "version": 3
   },
   "file_extension": ".py",
   "mimetype": "text/x-python",
   "name": "python",
   "nbconvert_exporter": "python",
   "pygments_lexer": "ipython3",
   "version": "3.12.4"
  }
 },
 "nbformat": 4,
 "nbformat_minor": 5
}
